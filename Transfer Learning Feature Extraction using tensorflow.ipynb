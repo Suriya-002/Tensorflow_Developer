{
 "cells": [
  {
   "cell_type": "code",
   "execution_count": 1,
   "id": "778f67fe",
   "metadata": {},
   "outputs": [],
   "source": [
    "import numpy as np\n",
    "import pandas as pd\n",
    "import matplotlib.pyplot as plt\n",
    "import seaborn as sns\n",
    "\n",
    "%matplotlib inline"
   ]
  },
  {
   "cell_type": "code",
   "execution_count": 2,
   "id": "bb2ba5f3",
   "metadata": {},
   "outputs": [
    {
     "name": "stdout",
     "output_type": "stream",
     "text": [
      "Requirement already satisfied: wget in c:\\users\\suriya\\anaconda3\\lib\\site-packages (3.2)\n"
     ]
    }
   ],
   "source": [
    "!pip install wget"
   ]
  },
  {
   "cell_type": "code",
   "execution_count": 3,
   "id": "0b8fd611",
   "metadata": {},
   "outputs": [],
   "source": [
    "import zipfile\n",
    "\n",
    "zip_ref = zipfile.ZipFile(\"10_food_classes_10_percent.zip\", \"r\")\n",
    "zip_ref.extractall()\n",
    "zip_ref.close()"
   ]
  },
  {
   "cell_type": "code",
   "execution_count": 4,
   "id": "455225f1",
   "metadata": {},
   "outputs": [
    {
     "name": "stdout",
     "output_type": "stream",
     "text": [
      "There are 2 directories and 0 images in 10_food_classes_10_percent\n",
      "There are 10 directories and 0 images in 10_food_classes_10_percent\\test\n",
      "There are 0 directories and 250 images in 10_food_classes_10_percent\\test\\chicken_curry\n",
      "There are 0 directories and 250 images in 10_food_classes_10_percent\\test\\chicken_wings\n",
      "There are 0 directories and 250 images in 10_food_classes_10_percent\\test\\fried_rice\n",
      "There are 0 directories and 250 images in 10_food_classes_10_percent\\test\\grilled_salmon\n",
      "There are 0 directories and 250 images in 10_food_classes_10_percent\\test\\hamburger\n",
      "There are 0 directories and 250 images in 10_food_classes_10_percent\\test\\ice_cream\n",
      "There are 0 directories and 250 images in 10_food_classes_10_percent\\test\\pizza\n",
      "There are 0 directories and 250 images in 10_food_classes_10_percent\\test\\ramen\n",
      "There are 0 directories and 250 images in 10_food_classes_10_percent\\test\\steak\n",
      "There are 0 directories and 250 images in 10_food_classes_10_percent\\test\\sushi\n",
      "There are 10 directories and 0 images in 10_food_classes_10_percent\\train\n",
      "There are 0 directories and 75 images in 10_food_classes_10_percent\\train\\chicken_curry\n",
      "There are 0 directories and 75 images in 10_food_classes_10_percent\\train\\chicken_wings\n",
      "There are 0 directories and 75 images in 10_food_classes_10_percent\\train\\fried_rice\n",
      "There are 0 directories and 75 images in 10_food_classes_10_percent\\train\\grilled_salmon\n",
      "There are 0 directories and 75 images in 10_food_classes_10_percent\\train\\hamburger\n",
      "There are 0 directories and 75 images in 10_food_classes_10_percent\\train\\ice_cream\n",
      "There are 0 directories and 75 images in 10_food_classes_10_percent\\train\\pizza\n",
      "There are 0 directories and 75 images in 10_food_classes_10_percent\\train\\ramen\n",
      "There are 0 directories and 75 images in 10_food_classes_10_percent\\train\\steak\n",
      "There are 0 directories and 75 images in 10_food_classes_10_percent\\train\\sushi\n"
     ]
    }
   ],
   "source": [
    "import os\n",
    "\n",
    "for dirpath, dirname, filename in os.walk(\"10_food_classes_10_percent\"):\n",
    "    print(f\"There are {len(dirname)} directories and {len(filename)} images in {dirpath}\")"
   ]
  },
  {
   "cell_type": "code",
   "execution_count": 5,
   "id": "33827749",
   "metadata": {},
   "outputs": [],
   "source": [
    "import tensorflow as tf"
   ]
  },
  {
   "cell_type": "code",
   "execution_count": 6,
   "id": "a4f76296",
   "metadata": {},
   "outputs": [],
   "source": [
    "from tensorflow.keras.preprocessing.image import ImageDataGenerator"
   ]
  },
  {
   "cell_type": "code",
   "execution_count": 7,
   "id": "949cdeec",
   "metadata": {},
   "outputs": [
    {
     "name": "stdout",
     "output_type": "stream",
     "text": [
      "Found 750 images belonging to 10 classes.\n",
      "Found 2500 images belonging to 10 classes.\n"
     ]
    }
   ],
   "source": [
    "train_dir = \"10_food_classes_10_percent/train/\"\n",
    "test_dir = \"10_food_classes_10_percent/test/\"\n",
    "\n",
    "Image_Shape = (224,224)\n",
    "size = 32\n",
    "\n",
    "train_datagen = ImageDataGenerator(rescale=1./255)\n",
    "test_datagen = ImageDataGenerator(rescale=1./255)\n",
    "\n",
    "train_data = train_datagen.flow_from_directory(train_dir, batch_size=size, class_mode='categorical', \n",
    "                                               target_size = Image_Shape)\n",
    "\n",
    "test_data = test_datagen.flow_from_directory(test_dir, batch_size=size, class_mode='categorical', \n",
    "                                             target_size=Image_Shape)"
   ]
  },
  {
   "cell_type": "code",
   "execution_count": 8,
   "id": "5309fed3",
   "metadata": {},
   "outputs": [],
   "source": [
    "from tensorflow.keras.callbacks import TensorBoard"
   ]
  },
  {
   "cell_type": "code",
   "execution_count": 9,
   "id": "df5b16b7",
   "metadata": {},
   "outputs": [],
   "source": [
    "import datetime\n",
    "\n",
    "def create_tb_callback(dir_name, exp_name):\n",
    "    log_dir = dir_name + \"/\" + exp_name + \"/\" + datetime.datetime.now().strftime(\"%Y%m%d-%H%M%S\")\n",
    "    tb_callback = TensorBoard(log_dir=log_dir)\n",
    "    \n",
    "    print(f\"Saving TensorBoard log files to: {log_dir}\")\n",
    "    \n",
    "    return tb_callback"
   ]
  },
  {
   "cell_type": "code",
   "execution_count": 10,
   "id": "89c0e0ce",
   "metadata": {},
   "outputs": [
    {
     "name": "stdout",
     "output_type": "stream",
     "text": [
      "Requirement already satisfied: tensorflow_hub in c:\\users\\suriya\\anaconda3\\lib\\site-packages (0.12.0)\n",
      "Requirement already satisfied: protobuf>=3.8.0 in c:\\users\\suriya\\anaconda3\\lib\\site-packages (from tensorflow_hub) (3.19.4)\n",
      "Requirement already satisfied: numpy>=1.12.0 in c:\\users\\suriya\\anaconda3\\lib\\site-packages (from tensorflow_hub) (1.20.3)\n"
     ]
    }
   ],
   "source": [
    "!pip install tensorflow_hub\n",
    "import tensorflow_hub as hub\n",
    "from tensorflow.keras.models import Sequential\n",
    "from tensorflow.keras.layers import Dense\n",
    "from tensorflow.keras.losses import CategoricalCrossentropy"
   ]
  },
  {
   "cell_type": "code",
   "execution_count": 11,
   "id": "d50009fa",
   "metadata": {},
   "outputs": [],
   "source": [
    "resnet_url = \"https://tfhub.dev/google/imagenet/resnet_v2_50/feature_vector/4\"\n",
    "\n",
    "efficientnet_url = \"https://tfhub.dev/tensorflow/efficientnet/b0/feature-vector/1\"\n"
   ]
  },
  {
   "cell_type": "code",
   "execution_count": 12,
   "id": "532f81c3",
   "metadata": {},
   "outputs": [],
   "source": [
    "def create_model(url, num_classes=10):\n",
    "    feature_extractor_layer = hub.KerasLayer(url,\n",
    "                                           trainable=False, \n",
    "                                           name='feature_extraction_layer',\n",
    "                                           input_shape=Image_Shape+(3,))\n",
    "    model = tf.keras.Sequential([\n",
    "    feature_extractor_layer,\n",
    "    tf.keras.layers.Dense(num_classes, activation='softmax', name='output_layer') \n",
    "  ])\n",
    "    return model"
   ]
  },
  {
   "cell_type": "code",
   "execution_count": 13,
   "id": "2b88afbc",
   "metadata": {},
   "outputs": [],
   "source": [
    "resnet_model = create_model(resnet_url, num_classes= train_data.num_classes)"
   ]
  },
  {
   "cell_type": "code",
   "execution_count": 14,
   "id": "2b793d0e",
   "metadata": {},
   "outputs": [],
   "source": [
    "resnet_model.compile(loss=CategoricalCrossentropy(), optimizer='adam', metrics='accuracy')"
   ]
  },
  {
   "cell_type": "code",
   "execution_count": 15,
   "id": "94cf3b91",
   "metadata": {},
   "outputs": [
    {
     "name": "stdout",
     "output_type": "stream",
     "text": [
      "Saving TensorBoard log files to: tensorflow_hub/resnet50V2/20230107-153152\n",
      "Epoch 1/5\n",
      "24/24 [==============================] - 253s 10s/step - loss: 1.7804 - accuracy: 0.3933 - val_loss: 1.1034 - val_accuracy: 0.6660\n",
      "Epoch 2/5\n",
      "24/24 [==============================] - 244s 10s/step - loss: 0.8402 - accuracy: 0.7467 - val_loss: 0.8526 - val_accuracy: 0.7348\n",
      "Epoch 3/5\n",
      "24/24 [==============================] - 245s 11s/step - loss: 0.5883 - accuracy: 0.8227 - val_loss: 0.7321 - val_accuracy: 0.7624\n",
      "Epoch 4/5\n",
      "24/24 [==============================] - 243s 10s/step - loss: 0.4474 - accuracy: 0.8867 - val_loss: 0.6902 - val_accuracy: 0.7752\n",
      "Epoch 5/5\n",
      "24/24 [==============================] - 244s 10s/step - loss: 0.3668 - accuracy: 0.9120 - val_loss: 0.6811 - val_accuracy: 0.7804\n"
     ]
    }
   ],
   "source": [
    "resnet_history = resnet_model.fit(train_data, epochs=5, validation_data=test_data, steps_per_epoch=len(train_data),\n",
    "                                 validation_steps=len(test_data), callbacks=[create_tb_callback(dir_name=\"tensorflow_hub\", \n",
    "                                                                                                exp_name=\"resnet50V2\")])"
   ]
  },
  {
   "cell_type": "code",
   "execution_count": 18,
   "id": "8382f86f",
   "metadata": {},
   "outputs": [],
   "source": [
    "def plot_losses_curve(history):\n",
    "    loss=history.history['loss']\n",
    "    val_loss = history.history['val_loss']\n",
    "    \n",
    "    accuracy = history.history['accuracy']\n",
    "    val_accuracy = history.history['val_accuracy']\n",
    "    \n",
    "    epochs = range(len(history.history['loss']))\n",
    "    \n",
    "    plt.plot(epochs, loss, label='training data')\n",
    "    plt.plot(epochs, val_loss, label='test data')\n",
    "    plt.title('Loss')\n",
    "    plt.xlabel(\"Epochs\")\n",
    "    plt.legend()\n",
    "    \n",
    "    plt.figure()\n",
    "    plt.plot(epochs, accuracy, label='Training accuracy')\n",
    "    plt.plot(epochs, val_accuracy, label='test accuracy')\n",
    "    plt.title(\"Accuracy\")\n",
    "    plt.xlabel(\"Epochs\")\n",
    "    plt.legend();"
   ]
  },
  {
   "cell_type": "code",
   "execution_count": 19,
   "id": "3a2c1a63",
   "metadata": {},
   "outputs": [
    {
     "data": {
      "image/png": "[encoded data removed]",
      "text/plain": [
       "<Figure size 432x288 with 1 Axes>"
      ]
     },
     "metadata": {
      "needs_background": "light"
     },
     "output_type": "display_data"
    },
    {
     "data": {
      "image/png": "[encoded data removed]",
      "text/plain": [
       "<Figure size 432x288 with 1 Axes>"
      ]
     },
     "metadata": {
      "needs_background": "light"
     },
     "output_type": "display_data"
    }
   ],
   "source": [
    "plot_losses_curve(resnet_history)"
   ]
  },
  {
   "cell_type": "code",
   "execution_count": 20,
   "id": "42589437",
   "metadata": {},
   "outputs": [
    {
     "name": "stdout",
     "output_type": "stream",
     "text": [
      "Model: \"sequential\"\n",
      "_________________________________________________________________\n",
      " Layer (type)                Output Shape              Param #   \n",
      "=================================================================\n",
      " feature_extraction_layer (K  (None, 2048)             23564800  \n",
      " erasLayer)                                                      \n",
      "                                                                 \n",
      " output_layer (Dense)        (None, 10)                20490     \n",
      "                                                                 \n",
      "=================================================================\n",
      "Total params: 23,585,290\n",
      "Trainable params: 20,490\n",
      "Non-trainable params: 23,564,800\n",
      "_________________________________________________________________\n"
     ]
    }
   ],
   "source": [
    "resnet_model.summary()"
   ]
  },
  {
   "cell_type": "code",
   "execution_count": 21,
   "id": "595a8b49",
   "metadata": {},
   "outputs": [],
   "source": [
    "efficientnet_model = create_model(efficientnet_url, num_classes=train_data.num_classes)"
   ]
  },
  {
   "cell_type": "code",
   "execution_count": 22,
   "id": "3c71e725",
   "metadata": {},
   "outputs": [],
   "source": [
    "efficientnet_model.compile(loss=CategoricalCrossentropy(), metrics='accuracy', optimizer='adam')"
   ]
  },
  {
   "cell_type": "code",
   "execution_count": 26,
   "id": "a8b91c8f",
   "metadata": {},
   "outputs": [
    {
     "name": "stdout",
     "output_type": "stream",
     "text": [
      "Saving TensorBoard log files to: tensorflow_hub/efficientnetB0/20230107-221831\n",
      "Epoch 1/5\n",
      "24/24 [==============================] - 105s 4s/step - loss: 1.5504 - accuracy: 0.5880 - val_loss: 1.1015 - val_accuracy: 0.7932\n",
      "Epoch 2/5\n",
      "24/24 [==============================] - 117s 5s/step - loss: 0.9351 - accuracy: 0.8013 - val_loss: 0.7837 - val_accuracy: 0.8264\n",
      "Epoch 3/5\n",
      "24/24 [==============================] - 108s 5s/step - loss: 0.6976 - accuracy: 0.8413 - val_loss: 0.6479 - val_accuracy: 0.8492\n",
      "Epoch 4/5\n",
      "24/24 [==============================] - 112s 5s/step - loss: 0.5766 - accuracy: 0.8613 - val_loss: 0.5790 - val_accuracy: 0.8584\n",
      "Epoch 5/5\n",
      "24/24 [==============================] - 117s 5s/step - loss: 0.4906 - accuracy: 0.8893 - val_loss: 0.5334 - val_accuracy: 0.8628\n"
     ]
    }
   ],
   "source": [
    "efficientnet_model_history = efficientnet_model.fit(train_data, validation_data=test_data, steps_per_epoch=len(train_data),\n",
    "                                                   epochs=5, validation_steps=len(test_data),\n",
    "                                                   callbacks=[create_tb_callback(dir_name=\"tensorflow_hub\",\n",
    "                                                                                          exp_name=\"efficientnetB0\")])"
   ]
  },
  {
   "cell_type": "code",
   "execution_count": 27,
   "id": "cf95160a",
   "metadata": {},
   "outputs": [
    {
     "name": "stdout",
     "output_type": "stream",
     "text": [
      "Model: \"sequential_1\"\n",
      "_________________________________________________________________\n",
      " Layer (type)                Output Shape              Param #   \n",
      "=================================================================\n",
      " feature_extraction_layer (K  (None, 1280)             4049564   \n",
      " erasLayer)                                                      \n",
      "                                                                 \n",
      " output_layer (Dense)        (None, 10)                12810     \n",
      "                                                                 \n",
      "=================================================================\n",
      "Total params: 4,062,374\n",
      "Trainable params: 12,810\n",
      "Non-trainable params: 4,049,564\n",
      "_________________________________________________________________\n"
     ]
    }
   ],
   "source": [
    "efficientnet_model.summary()"
   ]
  },
  {
   "cell_type": "code",
   "execution_count": 28,
   "id": "e3cacaad",
   "metadata": {},
   "outputs": [
    {
     "data": {
      "image/png": "[encoded data removed]",
      "text/plain": [
       "<Figure size 432x288 with 1 Axes>"
      ]
     },
     "metadata": {
      "needs_background": "light"
     },
     "output_type": "display_data"
    },
    {
     "data": {
      "image/png": "[encoded data removed]",
      "text/plain": [
       "<Figure size 432x288 with 1 Axes>"
      ]
     },
     "metadata": {
      "needs_background": "light"
     },
     "output_type": "display_data"
    }
   ],
   "source": [
    "plot_losses_curve(efficientnet_model_history)"
   ]
  },
  {
   "cell_type": "code",
   "execution_count": 29,
   "id": "8341fac6",
   "metadata": {},
   "outputs": [
    {
     "name": "stdout",
     "output_type": "stream",
     "text": [
      "Model: \"sequential\"\n",
      "_________________________________________________________________\n",
      " Layer (type)                Output Shape              Param #   \n",
      "=================================================================\n",
      " feature_extraction_layer (K  (None, 2048)             23564800  \n",
      " erasLayer)                                                      \n",
      "                                                                 \n",
      " output_layer (Dense)        (None, 10)                20490     \n",
      "                                                                 \n",
      "=================================================================\n",
      "Total params: 23,585,290\n",
      "Trainable params: 20,490\n",
      "Non-trainable params: 23,564,800\n",
      "_________________________________________________________________\n"
     ]
    }
   ],
   "source": [
    "resnet_model.summary()"
   ]
  },
  {
   "cell_type": "code",
   "execution_count": 30,
   "id": "6d684485",
   "metadata": {},
   "outputs": [
    {
     "name": "stdout",
     "output_type": "stream",
     "text": [
      "Model: \"sequential_1\"\n",
      "_________________________________________________________________\n",
      " Layer (type)                Output Shape              Param #   \n",
      "=================================================================\n",
      " feature_extraction_layer (K  (None, 1280)             4049564   \n",
      " erasLayer)                                                      \n",
      "                                                                 \n",
      " output_layer (Dense)        (None, 10)                12810     \n",
      "                                                                 \n",
      "=================================================================\n",
      "Total params: 4,062,374\n",
      "Trainable params: 12,810\n",
      "Non-trainable params: 4,049,564\n",
      "_________________________________________________________________\n"
     ]
    }
   ],
   "source": [
    "efficientnet_model.summary()"
   ]
  },
  {
   "cell_type": "code",
   "execution_count": null,
   "id": "55c80dd0",
   "metadata": {},
   "outputs": [],
   "source": []
  },
  {
   "cell_type": "code",
   "execution_count": null,
   "id": "56285590",
   "metadata": {},
   "outputs": [],
   "source": []
  }
 ],
 "metadata": {
  "kernelspec": {
   "display_name": "Python 3 (ipykernel)",
   "language": "python",
   "name": "python3"
  },
  "language_info": {
   "codemirror_mode": {
    "name": "ipython",
    "version": 3
   },
   "file_extension": ".py",
   "mimetype": "text/x-python",
   "name": "python",
   "nbconvert_exporter": "python",
   "pygments_lexer": "ipython3",
   "version": "3.9.7"
  }
 },
 "nbformat": 4,
 "nbformat_minor": 5
}
