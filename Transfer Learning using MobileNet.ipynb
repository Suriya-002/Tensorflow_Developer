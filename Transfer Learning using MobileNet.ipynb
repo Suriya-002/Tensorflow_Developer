{
 "cells": [
  {
   "cell_type": "code",
   "execution_count": 1,
   "id": "f3780bb9",
   "metadata": {},
   "outputs": [],
   "source": [
    "import numpy as np\n",
    "import pandas as pd\n",
    "import matplotlib.pyplot as plt\n",
    "import seaborn as sns\n",
    "\n",
    "%matplotlib inline"
   ]
  },
  {
   "cell_type": "code",
   "execution_count": 2,
   "id": "ad778e0b",
   "metadata": {},
   "outputs": [],
   "source": [
    "import zipfile\n",
    "\n",
    "zip_ref = zipfile.ZipFile(\"10_food_classes_10_percent.zip\", \"r\")\n",
    "zip_ref.extractall()\n",
    "zip_ref.close()"
   ]
  },
  {
   "cell_type": "code",
   "execution_count": 3,
   "id": "41dc743c",
   "metadata": {},
   "outputs": [
    {
     "name": "stdout",
     "output_type": "stream",
     "text": [
      "There are 2 directories and 0 images in 10_food_classes_10_percent\n",
      "There are 10 directories and 0 images in 10_food_classes_10_percent\\test\n",
      "There are 0 directories and 250 images in 10_food_classes_10_percent\\test\\chicken_curry\n",
      "There are 0 directories and 250 images in 10_food_classes_10_percent\\test\\chicken_wings\n",
      "There are 0 directories and 250 images in 10_food_classes_10_percent\\test\\fried_rice\n",
      "There are 0 directories and 250 images in 10_food_classes_10_percent\\test\\grilled_salmon\n",
      "There are 0 directories and 250 images in 10_food_classes_10_percent\\test\\hamburger\n",
      "There are 0 directories and 250 images in 10_food_classes_10_percent\\test\\ice_cream\n",
      "There are 0 directories and 250 images in 10_food_classes_10_percent\\test\\pizza\n",
      "There are 0 directories and 250 images in 10_food_classes_10_percent\\test\\ramen\n",
      "There are 0 directories and 250 images in 10_food_classes_10_percent\\test\\steak\n",
      "There are 0 directories and 250 images in 10_food_classes_10_percent\\test\\sushi\n",
      "There are 10 directories and 0 images in 10_food_classes_10_percent\\train\n",
      "There are 0 directories and 75 images in 10_food_classes_10_percent\\train\\chicken_curry\n",
      "There are 0 directories and 75 images in 10_food_classes_10_percent\\train\\chicken_wings\n",
      "There are 0 directories and 75 images in 10_food_classes_10_percent\\train\\fried_rice\n",
      "There are 0 directories and 75 images in 10_food_classes_10_percent\\train\\grilled_salmon\n",
      "There are 0 directories and 75 images in 10_food_classes_10_percent\\train\\hamburger\n",
      "There are 0 directories and 75 images in 10_food_classes_10_percent\\train\\ice_cream\n",
      "There are 0 directories and 75 images in 10_food_classes_10_percent\\train\\pizza\n",
      "There are 0 directories and 75 images in 10_food_classes_10_percent\\train\\ramen\n",
      "There are 0 directories and 75 images in 10_food_classes_10_percent\\train\\steak\n",
      "There are 0 directories and 75 images in 10_food_classes_10_percent\\train\\sushi\n"
     ]
    }
   ],
   "source": [
    "import os\n",
    "\n",
    "\n",
    "for dirpath, dirname, filename in os.walk(\"10_food_classes_10_percent\"):\n",
    "    print(f\"There are {len(dirname)} directories and {len(filename)} images in {dirpath}\")"
   ]
  },
  {
   "cell_type": "code",
   "execution_count": 4,
   "id": "609f3190",
   "metadata": {},
   "outputs": [],
   "source": [
    "import tensorflow as tf"
   ]
  },
  {
   "cell_type": "code",
   "execution_count": 5,
   "id": "01187fd6",
   "metadata": {},
   "outputs": [],
   "source": [
    "import tensorflow_hub as tf_hub"
   ]
  },
  {
   "cell_type": "code",
   "execution_count": 6,
   "id": "9280057d",
   "metadata": {},
   "outputs": [],
   "source": [
    "from tensorflow.keras.preprocessing.image import ImageDataGenerator"
   ]
  },
  {
   "cell_type": "code",
   "execution_count": 7,
   "id": "4dbb85b6",
   "metadata": {},
   "outputs": [],
   "source": [
    "train_dir = \"10_food_classes_10_percent/train/\"\n",
    "test_dir = \"10_food_classes_10_percent/test/\""
   ]
  },
  {
   "cell_type": "code",
   "execution_count": 8,
   "id": "bbe9c3c4",
   "metadata": {},
   "outputs": [
    {
     "name": "stdout",
     "output_type": "stream",
     "text": [
      "Found 750 images belonging to 10 classes.\n",
      "Found 2500 images belonging to 10 classes.\n"
     ]
    }
   ],
   "source": [
    "train_datagen = ImageDataGenerator(rescale=1./255)\n",
    "test_datagen = ImageDataGenerator(rescale=1./255)\n",
    "size = 32\n",
    "shape = (224,224)\n",
    "\n",
    "train_data = train_datagen.flow_from_directory(train_dir, batch_size=size, target_size=shape, class_mode='categorical')\n",
    "test_data = test_datagen.flow_from_directory(test_dir, batch_size=size, target_size=shape, class_mode='categorical')"
   ]
  },
  {
   "cell_type": "code",
   "execution_count": 9,
   "id": "80ff1ec7",
   "metadata": {},
   "outputs": [],
   "source": [
    "from tensorflow.keras.models import Sequential\n",
    "from tensorflow.keras.layers import Dense\n",
    "from tensorflow.keras.losses import CategoricalCrossentropy\n",
    "from tensorflow.keras.callbacks import TensorBoard"
   ]
  },
  {
   "cell_type": "code",
   "execution_count": 10,
   "id": "86be924b",
   "metadata": {},
   "outputs": [],
   "source": [
    "mobilenet_url = \"https://tfhub.dev/google/imagenet/mobilenet_v2_100_224/feature_vector/5\""
   ]
  },
  {
   "cell_type": "code",
   "execution_count": 11,
   "id": "f473f103",
   "metadata": {},
   "outputs": [],
   "source": [
    "import datetime\n",
    "\n",
    "def tb_callback(dir_name, exp_name):\n",
    "    log_dir = dir_name + \"/\" + exp_name + \"/\" + datetime.datetime.now().strftime(\"%Y%m%d-%H%M%S\")\n",
    "    tb_callback = TensorBoard(log_dir=log_dir)\n",
    "    \n",
    "    print(f\"Saving TensorBoard log files to: {log_dir}\")\n",
    "    \n",
    "    return tb_callback"
   ]
  },
  {
   "cell_type": "code",
   "execution_count": 12,
   "id": "0859e2e0",
   "metadata": {},
   "outputs": [],
   "source": [
    "def create_model(url, num_classes):\n",
    "    featurn_extraction_layer = tf_hub.KerasLayer(url, name=\"feature_Extraction_Layer\",trainable=False, \n",
    "                                                input_shape= shape+(3,))\n",
    "    \n",
    "    model = Sequential([\n",
    "        featurn_extraction_layer,\n",
    "        tf.keras.layers.Dense(num_classes, activation='softmax')\n",
    "    ])\n",
    "    \n",
    "    return model"
   ]
  },
  {
   "cell_type": "code",
   "execution_count": 13,
   "id": "0bd402e8",
   "metadata": {},
   "outputs": [],
   "source": [
    "def plot_loss_curve(history):\n",
    "    loss = history.history['loss']\n",
    "    val_loss = history.history['val_loss']\n",
    "    \n",
    "    accuracy = history.history['accuracy']\n",
    "    val_accuracy = history.history['val_accuracy']\n",
    "    \n",
    "    epochs = range(len(history.history['loss']))\n",
    "    \n",
    "    plt.plot(epochs, loss, label='Training Data')\n",
    "    plt.plot(epochs, val_loss, label=\"Test Data\")\n",
    "    plt.title(\"Loss\")\n",
    "    plt.xlabel(\"Epochs\")\n",
    "    plt.legend()\n",
    "    \n",
    "    plt.figure()\n",
    "    plt.plot(epochs, accuracy, label=\"Training Data\")\n",
    "    plt.plot(epochs, val_accuracy, label=\"Test Data\")\n",
    "    plt.title(\"Accuracy\")\n",
    "    plt.xlabel(\"Epochs\")\n",
    "    plt.legend();"
   ]
  },
  {
   "cell_type": "code",
   "execution_count": 14,
   "id": "232c6759",
   "metadata": {},
   "outputs": [],
   "source": [
    "mobile_net_model = create_model(mobilenet_url, num_classes= train_data.num_classes)"
   ]
  },
  {
   "cell_type": "code",
   "execution_count": 15,
   "id": "44d8eb33",
   "metadata": {},
   "outputs": [],
   "source": [
    "mobile_net_model.compile( loss=CategoricalCrossentropy(), metrics='accuracy', optimizer='adam')"
   ]
  },
  {
   "cell_type": "code",
   "execution_count": 16,
   "id": "047010b7",
   "metadata": {},
   "outputs": [
    {
     "data": {
      "text/plain": [
       "<keras.engine.sequential.Sequential at 0x24b4e442e80>"
      ]
     },
     "execution_count": 16,
     "metadata": {},
     "output_type": "execute_result"
    }
   ],
   "source": [
    "mobile_net_model"
   ]
  },
  {
   "cell_type": "code",
   "execution_count": 17,
   "id": "2f0865ac",
   "metadata": {},
   "outputs": [
    {
     "name": "stdout",
     "output_type": "stream",
     "text": [
      "Saving TensorBoard log files to: mobile_net_tf_hub/MobileNet/20230107-232506\n",
      "Epoch 1/5\n",
      "24/24 [==============================] - 91s 4s/step - loss: 1.9796 - accuracy: 0.3293 - val_loss: 1.3385 - val_accuracy: 0.6004\n",
      "Epoch 2/5\n",
      "24/24 [==============================] - 62s 3s/step - loss: 1.0395 - accuracy: 0.6800 - val_loss: 0.9150 - val_accuracy: 0.7392\n",
      "Epoch 3/5\n",
      "24/24 [==============================] - 63s 3s/step - loss: 0.7355 - accuracy: 0.7960 - val_loss: 0.7654 - val_accuracy: 0.7688\n",
      "Epoch 4/5\n",
      "24/24 [==============================] - 61s 3s/step - loss: 0.5777 - accuracy: 0.8547 - val_loss: 0.6857 - val_accuracy: 0.7908\n",
      "Epoch 5/5\n",
      "24/24 [==============================] - 62s 3s/step - loss: 0.4681 - accuracy: 0.8933 - val_loss: 0.6548 - val_accuracy: 0.7916\n"
     ]
    }
   ],
   "source": [
    "mobile_net_model_history = mobile_net_model.fit(train_data, validation_data=test_data, epochs=5, \n",
    "                                                steps_per_epoch=len(train_data), validation_steps=len(test_data),\n",
    "                                               callbacks=[tb_callback(dir_name=\"mobile_net_tf_hub\", exp_name=\"MobileNet\")])"
   ]
  },
  {
   "cell_type": "code",
   "execution_count": 19,
   "id": "c5b30631",
   "metadata": {},
   "outputs": [
    {
     "name": "stdout",
     "output_type": "stream",
     "text": [
      "Model: \"sequential\"\n",
      "_________________________________________________________________\n",
      " Layer (type)                Output Shape              Param #   \n",
      "=================================================================\n",
      " feature_Extraction_Layer (K  (None, 1280)             2257984   \n",
      " erasLayer)                                                      \n",
      "                                                                 \n",
      " dense (Dense)               (None, 10)                12810     \n",
      "                                                                 \n",
      "=================================================================\n",
      "Total params: 2,270,794\n",
      "Trainable params: 12,810\n",
      "Non-trainable params: 2,257,984\n",
      "_________________________________________________________________\n"
     ]
    }
   ],
   "source": [
    "mobile_net_model.summary()"
   ]
  },
  {
   "cell_type": "code",
   "execution_count": 20,
   "id": "1095e410",
   "metadata": {},
   "outputs": [
    {
     "data": {
      "image/png": "[encoded data removed]",
      "text/plain": [
       "<Figure size 432x288 with 1 Axes>"
      ]
     },
     "metadata": {
      "needs_background": "light"
     },
     "output_type": "display_data"
    },
    {
     "data": {
      "image/png": "[encoded data removed]",
      "text/plain": [
       "<Figure size 432x288 with 1 Axes>"
      ]
     },
     "metadata": {
      "needs_background": "light"
     },
     "output_type": "display_data"
    }
   ],
   "source": [
    "plot_loss_curve(mobile_net_model_history)"
   ]
  },
  {
   "cell_type": "code",
   "execution_count": null,
   "id": "2b754e3f",
   "metadata": {},
   "outputs": [],
   "source": []
  }
 ],
 "metadata": {
  "kernelspec": {
   "display_name": "Python 3 (ipykernel)",
   "language": "python",
   "name": "python3"
  },
  "language_info": {
   "codemirror_mode": {
    "name": "ipython",
    "version": 3
   },
   "file_extension": ".py",
   "mimetype": "text/x-python",
   "name": "python",
   "nbconvert_exporter": "python",
   "pygments_lexer": "ipython3",
   "version": "3.9.7"
  }
 },
 "nbformat": 4,
 "nbformat_minor": 5
}
