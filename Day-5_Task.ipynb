{
 "cells": [
  {
   "cell_type": "code",
   "execution_count": 1,
   "id": "c67cf1b2",
   "metadata": {},
   "outputs": [],
   "source": [
    "import numpy as np\n",
    "import pandas as pd\n",
    "import matplotlib.pyplot as plt\n",
    "import seaborn as sns"
   ]
  },
  {
   "cell_type": "code",
   "execution_count": 2,
   "id": "b6f7ea3c",
   "metadata": {},
   "outputs": [
    {
     "name": "stdout",
     "output_type": "stream",
     "text": [
      "1.21.6\n",
      "\n",
      "\n",
      "blas_mkl_info:\n",
      "  NOT AVAILABLE\n",
      "blis_info:\n",
      "  NOT AVAILABLE\n",
      "openblas_info:\n",
      "    library_dirs = ['D:\\\\a\\\\1\\\\s\\\\numpy\\\\build\\\\openblas_info']\n",
      "    libraries = ['openblas_info']\n",
      "    language = f77\n",
      "    define_macros = [('HAVE_CBLAS', None)]\n",
      "blas_opt_info:\n",
      "    library_dirs = ['D:\\\\a\\\\1\\\\s\\\\numpy\\\\build\\\\openblas_info']\n",
      "    libraries = ['openblas_info']\n",
      "    language = f77\n",
      "    define_macros = [('HAVE_CBLAS', None)]\n",
      "lapack_mkl_info:\n",
      "  NOT AVAILABLE\n",
      "openblas_lapack_info:\n",
      "    library_dirs = ['D:\\\\a\\\\1\\\\s\\\\numpy\\\\build\\\\openblas_lapack_info']\n",
      "    libraries = ['openblas_lapack_info']\n",
      "    language = f77\n",
      "    define_macros = [('HAVE_CBLAS', None)]\n",
      "lapack_opt_info:\n",
      "    library_dirs = ['D:\\\\a\\\\1\\\\s\\\\numpy\\\\build\\\\openblas_lapack_info']\n",
      "    libraries = ['openblas_lapack_info']\n",
      "    language = f77\n",
      "    define_macros = [('HAVE_CBLAS', None)]\n",
      "Supported SIMD extensions in this NumPy install:\n",
      "    baseline = SSE,SSE2,SSE3\n",
      "    found = SSSE3,SSE41,POPCNT,SSE42,AVX,F16C,FMA3,AVX2,AVX512F,AVX512CD,AVX512_SKX,AVX512_CLX,AVX512_CNL,AVX512_ICL\n",
      "    not found = \n",
      "None\n"
     ]
    }
   ],
   "source": [
    "# 1. Version of numpy and the configuration\n",
    "print(np.__version__)\n",
    "print(\"\\n\")\n",
    "print(np.show_config())"
   ]
  },
  {
   "cell_type": "code",
   "execution_count": 3,
   "id": "f7f1903c",
   "metadata": {},
   "outputs": [
    {
     "data": {
      "text/plain": [
       "array([0., 0., 0., 0., 0., 0., 0., 0., 0., 0.])"
      ]
     },
     "execution_count": 3,
     "metadata": {},
     "output_type": "execute_result"
    }
   ],
   "source": [
    "# 2. null vector of size 10\n",
    "null = np.zeros(10)\n",
    "null"
   ]
  },
  {
   "cell_type": "code",
   "execution_count": 41,
   "id": "4f53aeee",
   "metadata": {},
   "outputs": [
    {
     "name": "stdout",
     "output_type": "stream",
     "text": [
      "80\n"
     ]
    }
   ],
   "source": [
    "# 3. memory of the array\n",
    "print(null.itemsize * null.size)"
   ]
  },
  {
   "cell_type": "markdown",
   "id": "c0e38e3d",
   "metadata": {},
   "source": [
    " 4. We can get the help of the numpy documentation from the command line by using  ? funtion beside the function for which the help is required"
   ]
  },
  {
   "cell_type": "code",
   "execution_count": null,
   "id": "9dcd534f",
   "metadata": {},
   "outputs": [],
   "source": []
  },
  {
   "cell_type": "code",
   "execution_count": 5,
   "id": "d9dd4293",
   "metadata": {},
   "outputs": [
    {
     "data": {
      "text/plain": [
       "array([0., 0., 0., 0., 1., 0., 0., 0., 0., 0.])"
      ]
     },
     "execution_count": 5,
     "metadata": {},
     "output_type": "execute_result"
    }
   ],
   "source": [
    "# 5. null vectors with 5 th position as 1\n",
    "null5 = np.zeros(10)\n",
    "null5[4] = 1\n",
    "null5"
   ]
  },
  {
   "cell_type": "code",
   "execution_count": 6,
   "id": "46b8512f",
   "metadata": {},
   "outputs": [
    {
     "data": {
      "text/plain": [
       "array([10, 11, 12, 13, 14, 15, 16, 17, 18, 19, 20, 21, 22, 23, 24, 25, 26,\n",
       "       27, 28, 29, 30, 31, 32, 33, 34, 35, 36, 37, 38, 39, 40, 41, 42, 43,\n",
       "       44, 45, 46, 47, 48, 49])"
      ]
     },
     "execution_count": 6,
     "metadata": {},
     "output_type": "execute_result"
    }
   ],
   "source": [
    "# 6. vector with values ranging from 10 to 49\n",
    "vector = np.arange(10,50)\n",
    "vector"
   ]
  },
  {
   "cell_type": "code",
   "execution_count": 7,
   "id": "b1baf366",
   "metadata": {},
   "outputs": [
    {
     "data": {
      "text/plain": [
       "array([49, 48, 47, 46, 45, 44, 43, 42, 41, 40, 39, 38, 37, 36, 35, 34, 33,\n",
       "       32, 31, 30, 29, 28, 27, 26, 25, 24, 23, 22, 21, 20, 19, 18, 17, 16,\n",
       "       15, 14, 13, 12, 11, 10])"
      ]
     },
     "execution_count": 7,
     "metadata": {},
     "output_type": "execute_result"
    }
   ],
   "source": [
    "#7. reversing a vector\n",
    "vector = np.flip(vector)\n",
    "vector"
   ]
  },
  {
   "cell_type": "code",
   "execution_count": 8,
   "id": "b9e3040c",
   "metadata": {},
   "outputs": [
    {
     "data": {
      "text/plain": [
       "array([[0, 1, 2],\n",
       "       [3, 4, 5],\n",
       "       [6, 7, 8]])"
      ]
     },
     "execution_count": 8,
     "metadata": {},
     "output_type": "execute_result"
    }
   ],
   "source": [
    "#8. 3X3 matrix\n",
    "mat = np.arange(0,9).reshape(3,3)\n",
    "mat"
   ]
  },
  {
   "cell_type": "code",
   "execution_count": 42,
   "id": "bfa8d25d",
   "metadata": {},
   "outputs": [
    {
     "name": "stdout",
     "output_type": "stream",
     "text": [
      "(array([0, 1, 4], dtype=int64),)\n"
     ]
    }
   ],
   "source": [
    "#9. indices of the matrix\n",
    "ind = [1,2,0,0,4,0]\n",
    "print(np.nonzero(ind))"
   ]
  },
  {
   "cell_type": "code",
   "execution_count": 10,
   "id": "6efa1dd9",
   "metadata": {},
   "outputs": [
    {
     "data": {
      "text/plain": [
       "array([[1., 0., 0.],\n",
       "       [0., 1., 0.],\n",
       "       [0., 0., 1.]])"
      ]
     },
     "execution_count": 10,
     "metadata": {},
     "output_type": "execute_result"
    }
   ],
   "source": [
    "#10. identity matrix\n",
    "ide = np.identity(3)\n",
    "ide"
   ]
  },
  {
   "cell_type": "code",
   "execution_count": 13,
   "id": "8d6f7173",
   "metadata": {},
   "outputs": [
    {
     "data": {
      "text/plain": [
       "array([[[0.41409944, 0.14775529, 0.23693752],\n",
       "        [0.20534789, 0.00839393, 0.24051708],\n",
       "        [0.46687908, 0.37877614, 0.9313943 ]],\n",
       "\n",
       "       [[0.59620642, 0.72267193, 0.07560994],\n",
       "        [0.48680599, 0.47870145, 0.91240155],\n",
       "        [0.71383644, 0.45162587, 0.14122438]],\n",
       "\n",
       "       [[0.79293693, 0.72870481, 0.08038921],\n",
       "        [0.57556447, 0.78436805, 0.50764508],\n",
       "        [0.66790056, 0.37952421, 0.88103418]]])"
      ]
     },
     "execution_count": 13,
     "metadata": {},
     "output_type": "execute_result"
    }
   ],
   "source": [
    "#11. random matrix\n",
    "\n",
    "rand = np.random.random((3,3,3))\n",
    "rand"
   ]
  },
  {
   "cell_type": "code",
   "execution_count": 44,
   "id": "e0ab188a",
   "metadata": {},
   "outputs": [
    {
     "name": "stdout",
     "output_type": "stream",
     "text": [
      "0.9967303209009339\n",
      " \n"
     ]
    },
    {
     "data": {
      "text/plain": [
       "0.006240956256607699"
      ]
     },
     "execution_count": 44,
     "metadata": {},
     "output_type": "execute_result"
    }
   ],
   "source": [
    "#12. 10x10 array with random values\n",
    "matrix = np.random.rand(10,10)\n",
    "print(np.max(matrix))\n",
    "print(\" \")\n",
    "np.min(matrix)"
   ]
  },
  {
   "cell_type": "code",
   "execution_count": 20,
   "id": "d8eaa7e2",
   "metadata": {},
   "outputs": [
    {
     "name": "stdout",
     "output_type": "stream",
     "text": [
      "0.5234775126904059\n"
     ]
    }
   ],
   "source": [
    "#13.  random vector of size 30 \n",
    "vec = np.random.random(30)\n",
    "print(np.mean(vec))"
   ]
  },
  {
   "cell_type": "code",
   "execution_count": 23,
   "id": "6e1e1e85",
   "metadata": {},
   "outputs": [
    {
     "data": {
      "text/plain": [
       "array([[1., 1., 1., 1., 1., 1., 1., 1., 1., 1.],\n",
       "       [1., 0., 0., 0., 0., 0., 0., 0., 0., 1.],\n",
       "       [1., 0., 0., 0., 0., 0., 0., 0., 0., 1.],\n",
       "       [1., 0., 0., 0., 0., 0., 0., 0., 0., 1.],\n",
       "       [1., 0., 0., 0., 0., 0., 0., 0., 0., 1.],\n",
       "       [1., 0., 0., 0., 0., 0., 0., 0., 0., 1.],\n",
       "       [1., 0., 0., 0., 0., 0., 0., 0., 0., 1.],\n",
       "       [1., 0., 0., 0., 0., 0., 0., 0., 0., 1.],\n",
       "       [1., 0., 0., 0., 0., 0., 0., 0., 0., 1.],\n",
       "       [1., 1., 1., 1., 1., 1., 1., 1., 1., 1.]])"
      ]
     },
     "execution_count": 23,
     "metadata": {},
     "output_type": "execute_result"
    }
   ],
   "source": [
    "#14. 2d array with 1 on the border and 0 inside\n",
    "mat = np.ones(100).reshape(10,10)\n",
    "mat[1:-1, 1:-1]=0\n",
    "mat"
   ]
  },
  {
   "cell_type": "code",
   "execution_count": 25,
   "id": "d414bf33",
   "metadata": {},
   "outputs": [
    {
     "data": {
      "text/plain": [
       "array([[0., 0., 0., 0., 0., 0., 0., 0., 0., 0.],\n",
       "       [0., 0., 0., 0., 0., 0., 0., 0., 0., 0.],\n",
       "       [0., 0., 0., 0., 0., 0., 0., 0., 0., 0.],\n",
       "       [0., 0., 0., 0., 0., 0., 0., 0., 0., 0.],\n",
       "       [0., 0., 0., 0., 0., 0., 0., 0., 0., 0.],\n",
       "       [0., 0., 0., 0., 0., 0., 0., 0., 0., 0.],\n",
       "       [0., 0., 0., 0., 0., 0., 0., 0., 0., 0.],\n",
       "       [0., 0., 0., 0., 0., 0., 0., 0., 0., 0.],\n",
       "       [0., 0., 0., 0., 0., 0., 0., 0., 0., 0.],\n",
       "       [0., 0., 0., 0., 0., 0., 0., 0., 0., 0.]])"
      ]
     },
     "execution_count": 25,
     "metadata": {},
     "output_type": "execute_result"
    }
   ],
   "source": [
    "# 15. add a border (filled with 0's) around an existing array\n",
    "for i in range(len(mat)):\n",
    "    for j in range(len(mat)):\n",
    "        if mat[i][j] ==1:\n",
    "            mat[i][j]=0\n",
    "mat"
   ]
  },
  {
   "cell_type": "code",
   "execution_count": 28,
   "id": "cf04c97c",
   "metadata": {},
   "outputs": [
    {
     "data": {
      "text/plain": [
       "nan"
      ]
     },
     "execution_count": 28,
     "metadata": {},
     "output_type": "execute_result"
    }
   ],
   "source": [
    "# 16.  result of the following expressions\n",
    " # a. 0 * np.nan\n",
    "0*np.nan"
   ]
  },
  {
   "cell_type": "code",
   "execution_count": 29,
   "id": "76c49652",
   "metadata": {},
   "outputs": [
    {
     "data": {
      "text/plain": [
       "False"
      ]
     },
     "execution_count": 29,
     "metadata": {},
     "output_type": "execute_result"
    }
   ],
   "source": [
    "# b. np.nan == np.nan\n",
    "np.nan == np.nan"
   ]
  },
  {
   "cell_type": "code",
   "execution_count": 30,
   "id": "fe591d78",
   "metadata": {},
   "outputs": [
    {
     "data": {
      "text/plain": [
       "False"
      ]
     },
     "execution_count": 30,
     "metadata": {},
     "output_type": "execute_result"
    }
   ],
   "source": [
    "# c.np.inf > np.nan\n",
    "np.inf > np.nan"
   ]
  },
  {
   "cell_type": "code",
   "execution_count": 31,
   "id": "2c9e752d",
   "metadata": {},
   "outputs": [
    {
     "data": {
      "text/plain": [
       "nan"
      ]
     },
     "execution_count": 31,
     "metadata": {},
     "output_type": "execute_result"
    }
   ],
   "source": [
    "# d.np.nan - np.nan\n",
    "np.nan - np.nan"
   ]
  },
  {
   "cell_type": "code",
   "execution_count": 32,
   "id": "852b75be",
   "metadata": {},
   "outputs": [
    {
     "data": {
      "text/plain": [
       "True"
      ]
     },
     "execution_count": 32,
     "metadata": {},
     "output_type": "execute_result"
    }
   ],
   "source": [
    "# e. np.nan in set([np.nan])\n",
    "np.nan in set([np.nan])"
   ]
  },
  {
   "cell_type": "code",
   "execution_count": 33,
   "id": "5596e598",
   "metadata": {},
   "outputs": [
    {
     "data": {
      "text/plain": [
       "False"
      ]
     },
     "execution_count": 33,
     "metadata": {},
     "output_type": "execute_result"
    }
   ],
   "source": [
    "# f. 0.3 == 3 * 0.1\n",
    "0.3 == 3 * 0.1"
   ]
  },
  {
   "cell_type": "code",
   "execution_count": 56,
   "id": "b10f89c0",
   "metadata": {},
   "outputs": [
    {
     "name": "stdout",
     "output_type": "stream",
     "text": [
      "[[0 0 0 0 0 0 0]\n",
      " [1 0 0 0 0 0 0]\n",
      " [0 2 0 0 0 0 0]\n",
      " [0 0 3 0 0 0 0]\n",
      " [0 0 0 4 0 0 0]\n",
      " [0 0 0 0 5 0 0]\n",
      " [0 0 0 0 0 6 0]]\n"
     ]
    }
   ],
   "source": [
    "# 17. Create a 5x5 matrix with values 1,2,3,4 just below the diagonal\n",
    "rix= np.diag(1+np.arange(6), k=-1)\n",
    "print(rix)"
   ]
  },
  {
   "cell_type": "code",
   "execution_count": 67,
   "id": "cb537166",
   "metadata": {},
   "outputs": [
    {
     "data": {
      "text/plain": [
       "array([[0., 1., 0., 1., 0., 1., 0., 1.],\n",
       "       [1., 0., 1., 0., 1., 0., 1., 0.],\n",
       "       [0., 1., 0., 1., 0., 1., 0., 1.],\n",
       "       [1., 0., 1., 0., 1., 0., 1., 0.],\n",
       "       [0., 1., 0., 1., 0., 1., 0., 1.],\n",
       "       [1., 0., 1., 0., 1., 0., 1., 0.],\n",
       "       [0., 1., 0., 1., 0., 1., 0., 1.],\n",
       "       [1., 0., 1., 0., 1., 0., 1., 0.]])"
      ]
     },
     "execution_count": 67,
     "metadata": {},
     "output_type": "execute_result"
    }
   ],
   "source": [
    "#18.Create a 8x8 matrix and fill it with a checkerboard pattern\n",
    "check = np.zeros((8,8))\n",
    "check[1::2,::2]=1\n",
    "check[::2,1::2]=1\n",
    "check"
   ]
  },
  {
   "cell_type": "code",
   "execution_count": 79,
   "id": "9e2db258",
   "metadata": {},
   "outputs": [
    {
     "data": {
      "text/plain": [
       "array([[[0.45566628, 0.88882252, 0.51936687, 0.72044937, 0.1104831 ,\n",
       "         0.1903745 , 0.95873382, 0.2786232 ],\n",
       "        [0.58502411, 0.98958088, 0.39600531, 0.38584572, 0.95147307,\n",
       "         0.30968725, 0.60566873, 0.24124734],\n",
       "        [0.19723637, 0.66342828, 0.04270905, 0.13428047, 0.28181377,\n",
       "         0.05545509, 0.20735396, 0.81231556],\n",
       "        [0.96093423, 0.45229221, 0.45810482, 0.42422513, 0.86500201,\n",
       "         0.6253399 , 0.72370771, 0.20228019],\n",
       "        [0.22053643, 0.20902698, 0.4461076 , 0.69402698, 0.57412136,\n",
       "         0.77400279, 0.98292956, 0.61107299],\n",
       "        [0.11414344, 0.72203349, 0.89757523, 0.83627637, 0.89763088,\n",
       "         0.01969884, 0.7826758 , 0.21522211],\n",
       "        [0.41502502, 0.53131132, 0.78662028, 0.27975241, 0.46125253,\n",
       "         0.63080122, 0.04079365, 0.44871024]],\n",
       "\n",
       "       [[0.53934849, 0.63903862, 0.20238854, 0.99232797, 0.90204475,\n",
       "         0.18682163, 0.23599861, 0.83904774],\n",
       "        [0.10637866, 0.29257616, 0.77814595, 0.38571974, 0.42972539,\n",
       "         0.27016282, 0.03184853, 0.92035008],\n",
       "        [0.25333074, 0.1565871 , 0.50539514, 0.76160658, 0.82827604,\n",
       "         0.79261669, 0.82483654, 0.6581951 ],\n",
       "        [0.20178604, 0.95817975, 0.27920848, 0.06182143, 0.23526842,\n",
       "         0.94281777, 0.74941666, 0.2540384 ],\n",
       "        [0.40392907, 0.78894018, 0.26493581, 0.5809376 , 0.81336624,\n",
       "         0.59949558, 0.87182335, 0.48752294],\n",
       "        [0.65608245, 0.34676834, 0.08413303, 0.98221142, 0.50359072,\n",
       "         0.04772117, 0.15801294, 0.34456541],\n",
       "        [0.01982923, 0.84428029, 0.38898651, 0.00356585, 0.40181961,\n",
       "         0.32293014, 0.12809466, 0.83612985]],\n",
       "\n",
       "       [[0.83234379, 0.12686986, 0.54751215, 0.06757344, 0.65846594,\n",
       "         0.73282739, 0.8856152 , 0.97797116],\n",
       "        [0.59270416, 0.35280498, 0.16527577, 0.36020507, 0.89842468,\n",
       "         0.21447891, 0.53038573, 0.61079017],\n",
       "        [0.83115722, 0.88271311, 0.84600084, 0.33860162, 0.59795586,\n",
       "         0.12545501, 0.55992338, 0.55132221],\n",
       "        [0.86969454, 0.70730438, 0.79406119, 0.6989082 , 0.3614809 ,\n",
       "         0.43839622, 0.70084895, 0.38950515],\n",
       "        [0.66964007, 0.58990339, 0.97699269, 0.05358354, 0.24627425,\n",
       "         0.91047377, 0.72726408, 0.12481374],\n",
       "        [0.25207501, 0.65634357, 0.58665052, 0.56189543, 0.9470757 ,\n",
       "         0.50776159, 0.04043831, 0.95065993],\n",
       "        [0.03222738, 0.89979516, 0.96348427, 0.74811049, 0.25052333,\n",
       "         0.27549801, 0.7867418 , 0.16566351]],\n",
       "\n",
       "       [[0.21735187, 0.90759865, 0.23865184, 0.43761374, 0.44667882,\n",
       "         0.46629586, 0.58953086, 0.33490005],\n",
       "        [0.916305  , 0.14741858, 0.62234739, 0.23260668, 0.30503391,\n",
       "         0.56308055, 0.26937627, 0.42717278],\n",
       "        [0.50395457, 0.44217878, 0.7074676 , 0.54820325, 0.68033109,\n",
       "         0.26303485, 0.32043811, 0.72621969],\n",
       "        [0.53423119, 0.33714563, 0.00732869, 0.77105656, 0.48719236,\n",
       "         0.35208248, 0.73875356, 0.01050148],\n",
       "        [0.74520902, 0.39473955, 0.77909651, 0.48368881, 0.81809381,\n",
       "         0.95033835, 0.8091316 , 0.65965474],\n",
       "        [0.648719  , 0.22517469, 0.84479289, 0.60423286, 0.75526193,\n",
       "         0.98660863, 0.54835964, 0.91599558],\n",
       "        [0.49489526, 0.90390295, 0.9533553 , 0.73248192, 0.84065168,\n",
       "         0.50758007, 0.1867553 , 0.34300592]],\n",
       "\n",
       "       [[0.94482905, 0.87967658, 0.51252003, 0.98557708, 0.20394139,\n",
       "         0.53361727, 0.57502058, 0.18560293],\n",
       "        [0.59092493, 0.71229405, 0.60160897, 0.19109581, 0.99866196,\n",
       "         0.53714295, 0.90252838, 0.51863768],\n",
       "        [0.61582414, 0.10192514, 0.24973338, 0.19831134, 0.09134359,\n",
       "         0.23532429, 0.23031984, 0.67859247],\n",
       "        [0.3378004 , 0.67614133, 0.0010969 , 0.27662024, 0.55782149,\n",
       "         0.24332455, 0.64254051, 0.14538391],\n",
       "        [0.21909722, 0.75360443, 0.30823978, 0.1886017 , 0.03953756,\n",
       "         0.23408428, 0.61301924, 0.57179578],\n",
       "        [0.96431599, 0.2377066 , 0.81587729, 0.29459937, 0.33653829,\n",
       "         0.71535842, 0.96623479, 0.42992828],\n",
       "        [0.44186984, 0.76362967, 0.13642451, 0.31425394, 0.9236045 ,\n",
       "         0.75760824, 0.63367298, 0.41637499]],\n",
       "\n",
       "       [[0.67693572, 0.77931119, 0.13633193, 0.6828795 , 0.20458176,\n",
       "         0.66397945, 0.76779558, 0.08799427],\n",
       "        [0.20778519, 0.97923156, 0.02039061, 0.09035321, 0.81488145,\n",
       "         0.97890724, 0.68461776, 0.925245  ],\n",
       "        [0.86048003, 0.82644775, 0.10318524, 0.12304915, 0.71147264,\n",
       "         0.99586114, 0.00167613, 0.10791756],\n",
       "        [0.93749341, 0.12394191, 0.04705541, 0.71223259, 0.19958317,\n",
       "         0.07913853, 0.49287804, 0.66152502],\n",
       "        [0.17851538, 0.22630064, 0.30671202, 0.83203984, 0.62698001,\n",
       "         0.63741275, 0.78895016, 0.10241727],\n",
       "        [0.86739002, 0.97957861, 0.51076136, 0.34997542, 0.25954511,\n",
       "         0.25566584, 0.63806181, 0.07353912],\n",
       "        [0.74853041, 0.07084212, 0.88607826, 0.14500609, 0.26750751,\n",
       "         0.13645923, 0.89185525, 0.29176942]]])"
      ]
     },
     "execution_count": 79,
     "metadata": {},
     "output_type": "execute_result"
    }
   ],
   "source": [
    "#19.Consider a (6,7,8) shape array, what is the index (x,y,z) of the 100th element? \n",
    "sixarray = np.array(np.random.rand(336).reshape(6,7,8))\n",
    "sixarray"
   ]
  },
  {
   "cell_type": "code",
   "execution_count": 82,
   "id": "ced52166",
   "metadata": {},
   "outputs": [
    {
     "name": "stdout",
     "output_type": "stream",
     "text": [
      "(1, 5, 4)\n"
     ]
    }
   ],
   "source": [
    "print(np.unravel_index(100,(6,7,8)))"
   ]
  },
  {
   "cell_type": "code",
   "execution_count": 83,
   "id": "f6ef6999",
   "metadata": {},
   "outputs": [
    {
     "name": "stdout",
     "output_type": "stream",
     "text": [
      "0.5035907161400301\n"
     ]
    }
   ],
   "source": [
    "print(sixarray[1,5,4])"
   ]
  },
  {
   "cell_type": "markdown",
   "id": "6c3c6226",
   "metadata": {},
   "source": [
    "# 20. Give your views regarding numpy vs pandas in python \n",
    "\n",
    "1. The Numpy is the library is mostly used to handle the numerical datas such as arrays whereas the Pandas library is used to handle DataFrames.\n",
    "\n",
    "2. Numpy mostly handels arrays and Pandas can handle data in the form of DataFrames and Series\n",
    "\n",
    "3. Pandas has more performance than numpy \n",
    "\n",
    "4. We can visualize the data with pandas whereas in numpy we can extend it upto n-dimensional arrays"
   ]
  },
  {
   "cell_type": "code",
   "execution_count": null,
   "id": "4ac9f2fb",
   "metadata": {},
   "outputs": [],
   "source": []
  }
 ],
 "metadata": {
  "kernelspec": {
   "display_name": "Python 3 (ipykernel)",
   "language": "python",
   "name": "python3"
  },
  "language_info": {
   "codemirror_mode": {
    "name": "ipython",
    "version": 3
   },
   "file_extension": ".py",
   "mimetype": "text/x-python",
   "name": "python",
   "nbconvert_exporter": "python",
   "pygments_lexer": "ipython3",
   "version": "3.7.13"
  }
 },
 "nbformat": 4,
 "nbformat_minor": 5
}
