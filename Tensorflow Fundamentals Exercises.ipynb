{
 "cells": [
  {
   "cell_type": "code",
   "execution_count": 1,
   "id": "f98f8867",
   "metadata": {},
   "outputs": [],
   "source": [
    "import numpy as np\n",
    "import pandas as pd\n",
    "import matplotlib.pyplot as plt\n",
    "import seaborn as sns\n",
    "\n",
    "%matplotlib inline"
   ]
  },
  {
   "cell_type": "code",
   "execution_count": 2,
   "id": "41ef4903",
   "metadata": {},
   "outputs": [],
   "source": [
    "import tensorflow as tf"
   ]
  },
  {
   "cell_type": "code",
   "execution_count": 3,
   "id": "17de9bb0",
   "metadata": {},
   "outputs": [],
   "source": [
    "scalar = tf.constant(7)"
   ]
  },
  {
   "cell_type": "code",
   "execution_count": 4,
   "id": "04b22caf",
   "metadata": {},
   "outputs": [
    {
     "data": {
      "text/plain": [
       "0"
      ]
     },
     "execution_count": 4,
     "metadata": {},
     "output_type": "execute_result"
    }
   ],
   "source": [
    "scalar.ndim"
   ]
  },
  {
   "cell_type": "code",
   "execution_count": 5,
   "id": "027baa4e",
   "metadata": {},
   "outputs": [],
   "source": [
    "vector = tf.constant([1,2])"
   ]
  },
  {
   "cell_type": "code",
   "execution_count": 6,
   "id": "65602b4f",
   "metadata": {},
   "outputs": [
    {
     "data": {
      "text/plain": [
       "1"
      ]
     },
     "execution_count": 6,
     "metadata": {},
     "output_type": "execute_result"
    }
   ],
   "source": [
    "vector.ndim"
   ]
  },
  {
   "cell_type": "code",
   "execution_count": 7,
   "id": "f8db2205",
   "metadata": {},
   "outputs": [],
   "source": [
    "matrix  = tf.constant([[3,4],\n",
    "                      [5,6]])"
   ]
  },
  {
   "cell_type": "code",
   "execution_count": 8,
   "id": "062d7708",
   "metadata": {},
   "outputs": [
    {
     "data": {
      "text/plain": [
       "2"
      ]
     },
     "execution_count": 8,
     "metadata": {},
     "output_type": "execute_result"
    }
   ],
   "source": [
    "matrix.ndim"
   ]
  },
  {
   "cell_type": "code",
   "execution_count": 9,
   "id": "420b43e3",
   "metadata": {},
   "outputs": [],
   "source": [
    "tensor = tf.constant([[[1, 2, 3],\n",
    "                       [4, 5, 6]],\n",
    "                      [[7, 8, 9],\n",
    "                       [10, 11, 12]],\n",
    "                      [[13, 14, 15],\n",
    "                       [16, 17, 18]]])"
   ]
  },
  {
   "cell_type": "code",
   "execution_count": 10,
   "id": "a8dfe125",
   "metadata": {},
   "outputs": [
    {
     "data": {
      "text/plain": [
       "3"
      ]
     },
     "execution_count": 10,
     "metadata": {},
     "output_type": "execute_result"
    }
   ],
   "source": [
    "tensor.ndim"
   ]
  },
  {
   "cell_type": "code",
   "execution_count": 11,
   "id": "0f5244e3",
   "metadata": {},
   "outputs": [
    {
     "data": {
      "text/plain": [
       "TensorShape([3, 2, 3])"
      ]
     },
     "execution_count": 11,
     "metadata": {},
     "output_type": "execute_result"
    }
   ],
   "source": [
    "tensor.shape"
   ]
  },
  {
   "cell_type": "code",
   "execution_count": 12,
   "id": "c2e065d8",
   "metadata": {},
   "outputs": [
    {
     "data": {
      "text/plain": [
       "<bound method Tensor.ref of <tf.Tensor: shape=(3, 2, 3), dtype=int32, numpy=\n",
       "array([[[ 1,  2,  3],\n",
       "        [ 4,  5,  6]],\n",
       "\n",
       "       [[ 7,  8,  9],\n",
       "        [10, 11, 12]],\n",
       "\n",
       "       [[13, 14, 15],\n",
       "        [16, 17, 18]]])>>"
      ]
     },
     "execution_count": 12,
     "metadata": {},
     "output_type": "execute_result"
    }
   ],
   "source": [
    "tensor.ref"
   ]
  },
  {
   "cell_type": "code",
   "execution_count": 13,
   "id": "7a455be6",
   "metadata": {},
   "outputs": [
    {
     "data": {
      "text/plain": [
       "<tf.Tensor: shape=(5, 300), dtype=float32, numpy=\n",
       "array([[-0.7565803 , -0.06854702,  0.07595026, ..., -1.071834  ,\n",
       "        -1.0722276 , -0.00586287],\n",
       "       [-0.88051033, -0.32426047, -2.4847078 , ...,  0.16512105,\n",
       "         1.155565  , -0.10707551],\n",
       "       [-1.5306779 , -0.86202925, -0.16359143, ...,  0.34288085,\n",
       "         1.216793  , -1.24293   ],\n",
       "       [ 0.84324265, -0.23379943,  0.4276398 , ..., -1.0428714 ,\n",
       "        -0.73970354,  0.0177109 ],\n",
       "       [ 0.04888754, -0.66408694, -1.787366  , ...,  0.1947453 ,\n",
       "         0.5656089 ,  0.18439196]], dtype=float32)>"
      ]
     },
     "execution_count": 13,
     "metadata": {},
     "output_type": "execute_result"
    }
   ],
   "source": [
    "t_1 = tf.random.Generator.from_seed(42)\n",
    "t_1 = t_1.normal(shape=(5,300))\n",
    "t_1"
   ]
  },
  {
   "cell_type": "code",
   "execution_count": 14,
   "id": "cfe61710",
   "metadata": {},
   "outputs": [
    {
     "data": {
      "text/plain": [
       "<tf.Tensor: shape=(5, 300), dtype=float32, numpy=\n",
       "array([[0.7493447 , 0.73561966, 0.45230794, ..., 0.5816356 , 0.5627874 ,\n",
       "        0.7491298 ],\n",
       "       [0.6438937 , 0.6938418 , 0.04408407, ..., 0.04825139, 0.5099728 ,\n",
       "        0.26470542],\n",
       "       [0.21373153, 0.6683699 , 0.78474844, ..., 0.19658887, 0.22030771,\n",
       "        0.3766911 ],\n",
       "       [0.68190825, 0.29304636, 0.5415933 , ..., 0.37111604, 0.76053166,\n",
       "        0.7538099 ],\n",
       "       [0.8011551 , 0.48830473, 0.13867617, ..., 0.20301867, 0.8378159 ,\n",
       "        0.19984365]], dtype=float32)>"
      ]
     },
     "execution_count": 14,
     "metadata": {},
     "output_type": "execute_result"
    }
   ],
   "source": [
    "t_2 = tf.random.Generator.from_seed(42)\n",
    "t_2 = t_2.uniform(shape=(5,300))\n",
    "t_2"
   ]
  },
  {
   "cell_type": "code",
   "execution_count": 15,
   "id": "701eb401",
   "metadata": {},
   "outputs": [
    {
     "data": {
      "text/plain": [
       "<tf.Tensor: shape=(300, 300), dtype=float32, numpy=\n",
       "array([[-0.846868  , -1.9195682 , -1.1187468 , ..., -0.4605882 ,\n",
       "        -0.52977884, -0.7310309 ],\n",
       "       [-1.1358638 , -1.2443552 , -0.94049245, ..., -0.44656953,\n",
       "        -1.1280476 , -0.77085674],\n",
       "       [-2.7182858 , -2.5249243 , -0.21981946, ..., -0.31204015,\n",
       "        -2.43268   , -0.6972771 ],\n",
       "       ...,\n",
       "       [-1.1786896 , -0.6552377 , -0.7462503 , ..., -0.8955323 ,\n",
       "        -1.0734441 , -1.3772823 ],\n",
       "       [ 0.14939055,  0.88571745,  0.19865929, ..., -0.48836678,\n",
       "         0.1652476 , -0.48356074],\n",
       "       [-0.17918815, -0.8141137 , -0.94759667, ..., -0.208915  ,\n",
       "        -0.16377601, -0.450736  ]], dtype=float32)>"
      ]
     },
     "execution_count": 15,
     "metadata": {},
     "output_type": "execute_result"
    }
   ],
   "source": [
    "tf.matmul(tf.transpose(t_1), t_2)"
   ]
  },
  {
   "cell_type": "code",
   "execution_count": 16,
   "id": "6919f120",
   "metadata": {},
   "outputs": [
    {
     "data": {
      "text/plain": [
       "<tf.Tensor: shape=(5, 5), dtype=float32, numpy=\n",
       "array([[ -9.258241 , -15.189949 , -14.499577 , -15.634086 ,  -7.9322157],\n",
       "       [ -7.2313747,  -3.4149356,  -4.73195  ,  -9.376359 , -11.401805 ],\n",
       "       [  5.921939 ,  -4.117131 ,   7.3674498,   5.767094 ,   4.8917212],\n",
       "       [ -4.5555515,  -3.6235137,  -6.238871 ,  -5.3141756, -10.262813 ],\n",
       "       [  6.274344 ,   3.9981017,   1.3461664,   9.228268 ,   2.086178 ]],\n",
       "      dtype=float32)>"
      ]
     },
     "execution_count": 16,
     "metadata": {},
     "output_type": "execute_result"
    }
   ],
   "source": [
    "tf.tensordot(t_1,tf.transpose(t_2), axes=True)"
   ]
  },
  {
   "cell_type": "code",
   "execution_count": 17,
   "id": "aeca7339",
   "metadata": {},
   "outputs": [
    {
     "data": {
      "text/plain": [
       "<tf.Tensor: shape=(224, 224, 3), dtype=float32, numpy=\n",
       "array([[[0.7493447 , 0.73561966, 0.45230794],\n",
       "        [0.49039817, 0.1889317 , 0.52027524],\n",
       "        [0.8736881 , 0.46921718, 0.63932586],\n",
       "        ...,\n",
       "        [0.8035464 , 0.8265822 , 0.84540355],\n",
       "        [0.16108847, 0.48667014, 0.6170937 ],\n",
       "        [0.22355545, 0.93454087, 0.5319209 ]],\n",
       "\n",
       "       [[0.7508148 , 0.46019256, 0.14229465],\n",
       "        [0.10500956, 0.72874916, 0.89662087],\n",
       "        [0.85220826, 0.76973283, 0.11408448],\n",
       "        ...,\n",
       "        [0.38387823, 0.72712064, 0.7561674 ],\n",
       "        [0.70352066, 0.22680473, 0.24423313],\n",
       "        [0.39240444, 0.32533252, 0.39407527]],\n",
       "\n",
       "       [[0.74291146, 0.54543686, 0.32094967],\n",
       "        [0.6671035 , 0.8900143 , 0.64271927],\n",
       "        [0.5317905 , 0.21345353, 0.71189904],\n",
       "        ...,\n",
       "        [0.53968227, 0.7233304 , 0.7900686 ],\n",
       "        [0.99334645, 0.857829  , 0.67977047],\n",
       "        [0.8087704 , 0.06597769, 0.62171316]],\n",
       "\n",
       "       ...,\n",
       "\n",
       "       [[0.84861326, 0.6271888 , 0.7023717 ],\n",
       "        [0.46894228, 0.4787085 , 0.1912539 ],\n",
       "        [0.39595473, 0.5948347 , 0.6859689 ],\n",
       "        ...,\n",
       "        [0.55004704, 0.81996536, 0.6626886 ],\n",
       "        [0.30092347, 0.3980503 , 0.17080736],\n",
       "        [0.9393351 , 0.3430456 , 0.15847623]],\n",
       "\n",
       "       [[0.07707131, 0.57546544, 0.841964  ],\n",
       "        [0.4417436 , 0.88804233, 0.8017428 ],\n",
       "        [0.6850492 , 0.70381224, 0.38806987],\n",
       "        ...,\n",
       "        [0.01135123, 0.46678603, 0.1724801 ],\n",
       "        [0.6351286 , 0.471022  , 0.22208214],\n",
       "        [0.5487895 , 0.9890213 , 0.12894046]],\n",
       "\n",
       "       [[0.712723  , 0.740348  , 0.8293475 ],\n",
       "        [0.15965354, 0.2230674 , 0.02333987],\n",
       "        [0.7165916 , 0.8322334 , 0.33391452],\n",
       "        ...,\n",
       "        [0.8585105 , 0.13414657, 0.3103006 ],\n",
       "        [0.74841535, 0.5148909 , 0.25076163],\n",
       "        [0.5981357 , 0.20435822, 0.66445065]]], dtype=float32)>"
      ]
     },
     "execution_count": 17,
     "metadata": {},
     "output_type": "execute_result"
    }
   ],
   "source": [
    "tensor_6 = tf.random.Generator.from_seed(42)\n",
    "tensor_6 = tensor_6.uniform(shape=(224, 224, 3))\n",
    "tensor_6"
   ]
  },
  {
   "cell_type": "code",
   "execution_count": 18,
   "id": "49d80b3d",
   "metadata": {},
   "outputs": [
    {
     "data": {
      "text/plain": [
       "<tf.Tensor: shape=(), dtype=float32, numpy=4.053116e-06>"
      ]
     },
     "execution_count": 18,
     "metadata": {},
     "output_type": "execute_result"
    }
   ],
   "source": [
    "tf.reduce_min(tensor_6)"
   ]
  },
  {
   "cell_type": "code",
   "execution_count": 19,
   "id": "2681e924",
   "metadata": {},
   "outputs": [
    {
     "data": {
      "text/plain": [
       "<tf.Tensor: shape=(), dtype=float32, numpy=0.99998736>"
      ]
     },
     "execution_count": 19,
     "metadata": {},
     "output_type": "execute_result"
    }
   ],
   "source": [
    "tf.reduce_max(tensor_6)"
   ]
  },
  {
   "cell_type": "code",
   "execution_count": 20,
   "id": "5aeb48d4",
   "metadata": {},
   "outputs": [
    {
     "data": {
      "text/plain": [
       "<tf.Tensor: shape=(1, 224, 224, 3), dtype=float32, numpy=\n",
       "array([[[[-0.7565803 , -0.06854702,  0.07595026],\n",
       "         [-1.2573844 , -0.23193763, -1.8107855 ],\n",
       "         [ 0.09988727, -0.50998646, -0.7535805 ],\n",
       "         ...,\n",
       "         [ 0.07099114, -0.5095768 ,  0.3482001 ],\n",
       "         [ 0.15985982, -1.9042184 ,  0.9690504 ],\n",
       "         [ 0.16251186, -0.07330752, -0.360591  ]],\n",
       "\n",
       "        [[ 0.18739441, -0.73353654,  1.2104433 ],\n",
       "         [ 1.5603006 , -0.48115277,  0.6335167 ],\n",
       "         [-0.5612103 ,  0.06994031,  1.6807095 ],\n",
       "         ...,\n",
       "         [-1.9460293 , -0.7977275 ,  0.03092833],\n",
       "         [ 0.8297488 ,  0.12179119,  1.0506107 ],\n",
       "         [-1.3097638 ,  0.92536974, -1.1787732 ]],\n",
       "\n",
       "        [[-0.21711822, -0.73974085, -1.3077081 ],\n",
       "         [-0.7502274 , -0.37715855, -0.30130875],\n",
       "         [ 1.0943383 ,  0.255803  ,  0.8011465 ],\n",
       "         ...,\n",
       "         [-0.32833767, -0.7794747 ,  0.20049338],\n",
       "         [-0.09002841,  0.07243238, -0.81940895],\n",
       "         [ 0.3171264 , -1.6143695 , -1.6824651 ]],\n",
       "\n",
       "        ...,\n",
       "\n",
       "        [[-0.4106899 , -0.3995463 ,  0.16299413],\n",
       "         [-0.82463205,  1.1320542 ,  0.43792692],\n",
       "         [-0.7639474 , -1.12663   , -0.7207727 ],\n",
       "         ...,\n",
       "         [-0.8531011 , -0.53761154, -0.32857296],\n",
       "         [ 0.9262249 , -1.2425404 , -0.69937414],\n",
       "         [ 1.7450827 ,  1.2275221 ,  0.7955962 ]],\n",
       "\n",
       "        [[-1.0337651 , -2.0142937 ,  0.20993443],\n",
       "         [-0.54768926, -0.4617833 ,  0.15565316],\n",
       "         [-0.83341664, -0.24888954, -1.045123  ],\n",
       "         ...,\n",
       "         [ 2.1425858 ,  1.0908573 ,  0.5777537 ],\n",
       "         [ 0.1725258 , -0.93706477, -0.5235085 ],\n",
       "         [-1.6538908 ,  0.10763748,  0.1024353 ]],\n",
       "\n",
       "        [[-0.82148445, -0.04988056,  0.5157987 ],\n",
       "         [ 0.328913  ,  0.25311732,  1.7136203 ],\n",
       "         [-0.7098217 ,  0.40330094, -1.3882406 ],\n",
       "         ...,\n",
       "         [ 0.14991115,  1.8622528 , -0.7413897 ],\n",
       "         [-0.07112624, -0.7579811 , -0.9618234 ],\n",
       "         [-1.3569822 , -1.5307596 , -0.91243464]]]], dtype=float32)>"
      ]
     },
     "execution_count": 20,
     "metadata": {},
     "output_type": "execute_result"
    }
   ],
   "source": [
    "tensor_8 = tf.random.Generator.from_seed(42)\n",
    "tensor_8 = tensor_8.normal(shape = (1,224,224,3))\n",
    "tensor_8"
   ]
  },
  {
   "cell_type": "code",
   "execution_count": 21,
   "id": "346153d5",
   "metadata": {},
   "outputs": [],
   "source": [
    "tensor_8 = tf.squeeze(tensor_8)"
   ]
  },
  {
   "cell_type": "code",
   "execution_count": 22,
   "id": "5ef6b7c8",
   "metadata": {},
   "outputs": [
    {
     "data": {
      "text/plain": [
       "TensorShape([224, 224, 3])"
      ]
     },
     "execution_count": 22,
     "metadata": {},
     "output_type": "execute_result"
    }
   ],
   "source": [
    "tensor_8.shape"
   ]
  },
  {
   "cell_type": "code",
   "execution_count": 23,
   "id": "aab0448d",
   "metadata": {},
   "outputs": [],
   "source": [
    "tensor_9 = tf.constant(np.random.randint(0,50,10))"
   ]
  },
  {
   "cell_type": "code",
   "execution_count": 24,
   "id": "93694598",
   "metadata": {},
   "outputs": [
    {
     "data": {
      "text/plain": [
       "<tf.Tensor: shape=(10,), dtype=int32, numpy=array([49, 16,  4, 10, 47,  4, 45,  8, 45, 41])>"
      ]
     },
     "execution_count": 24,
     "metadata": {},
     "output_type": "execute_result"
    }
   ],
   "source": [
    "tensor_9"
   ]
  },
  {
   "cell_type": "code",
   "execution_count": 25,
   "id": "b1c0a277",
   "metadata": {},
   "outputs": [
    {
     "name": "stdout",
     "output_type": "stream",
     "text": [
      "tf.Tensor(0, shape=(), dtype=int64)\n"
     ]
    }
   ],
   "source": [
    "print(tf.reduce_max(tf.argmax(tensor_9)))"
   ]
  },
  {
   "cell_type": "code",
   "execution_count": 26,
   "id": "e7749e96",
   "metadata": {},
   "outputs": [
    {
     "data": {
      "text/plain": [
       "<tf.Tensor: shape=(10, 40), dtype=float32, numpy=\n",
       "array([[0., 0., 0., 0., 0., 0., 0., 0., 0., 0., 0., 0., 0., 0., 0., 0.,\n",
       "        0., 0., 0., 0., 0., 0., 0., 0., 0., 0., 0., 0., 0., 0., 0., 0.,\n",
       "        0., 0., 0., 0., 0., 0., 0., 0.],\n",
       "       [0., 0., 0., 0., 0., 0., 0., 0., 0., 0., 0., 0., 0., 0., 0., 0.,\n",
       "        1., 0., 0., 0., 0., 0., 0., 0., 0., 0., 0., 0., 0., 0., 0., 0.,\n",
       "        0., 0., 0., 0., 0., 0., 0., 0.],\n",
       "       [0., 0., 0., 0., 1., 0., 0., 0., 0., 0., 0., 0., 0., 0., 0., 0.,\n",
       "        0., 0., 0., 0., 0., 0., 0., 0., 0., 0., 0., 0., 0., 0., 0., 0.,\n",
       "        0., 0., 0., 0., 0., 0., 0., 0.],\n",
       "       [0., 0., 0., 0., 0., 0., 0., 0., 0., 0., 1., 0., 0., 0., 0., 0.,\n",
       "        0., 0., 0., 0., 0., 0., 0., 0., 0., 0., 0., 0., 0., 0., 0., 0.,\n",
       "        0., 0., 0., 0., 0., 0., 0., 0.],\n",
       "       [0., 0., 0., 0., 0., 0., 0., 0., 0., 0., 0., 0., 0., 0., 0., 0.,\n",
       "        0., 0., 0., 0., 0., 0., 0., 0., 0., 0., 0., 0., 0., 0., 0., 0.,\n",
       "        0., 0., 0., 0., 0., 0., 0., 0.],\n",
       "       [0., 0., 0., 0., 1., 0., 0., 0., 0., 0., 0., 0., 0., 0., 0., 0.,\n",
       "        0., 0., 0., 0., 0., 0., 0., 0., 0., 0., 0., 0., 0., 0., 0., 0.,\n",
       "        0., 0., 0., 0., 0., 0., 0., 0.],\n",
       "       [0., 0., 0., 0., 0., 0., 0., 0., 0., 0., 0., 0., 0., 0., 0., 0.,\n",
       "        0., 0., 0., 0., 0., 0., 0., 0., 0., 0., 0., 0., 0., 0., 0., 0.,\n",
       "        0., 0., 0., 0., 0., 0., 0., 0.],\n",
       "       [0., 0., 0., 0., 0., 0., 0., 0., 1., 0., 0., 0., 0., 0., 0., 0.,\n",
       "        0., 0., 0., 0., 0., 0., 0., 0., 0., 0., 0., 0., 0., 0., 0., 0.,\n",
       "        0., 0., 0., 0., 0., 0., 0., 0.],\n",
       "       [0., 0., 0., 0., 0., 0., 0., 0., 0., 0., 0., 0., 0., 0., 0., 0.,\n",
       "        0., 0., 0., 0., 0., 0., 0., 0., 0., 0., 0., 0., 0., 0., 0., 0.,\n",
       "        0., 0., 0., 0., 0., 0., 0., 0.],\n",
       "       [0., 0., 0., 0., 0., 0., 0., 0., 0., 0., 0., 0., 0., 0., 0., 0.,\n",
       "        0., 0., 0., 0., 0., 0., 0., 0., 0., 0., 0., 0., 0., 0., 0., 0.,\n",
       "        0., 0., 0., 0., 0., 0., 0., 0.]], dtype=float32)>"
      ]
     },
     "execution_count": 26,
     "metadata": {},
     "output_type": "execute_result"
    }
   ],
   "source": [
    "tf.one_hot(tensor_9, depth=40)"
   ]
  },
  {
   "cell_type": "code",
   "execution_count": null,
   "id": "7f9856e9",
   "metadata": {},
   "outputs": [],
   "source": []
  }
 ],
 "metadata": {
  "kernelspec": {
   "display_name": "Python 3 (ipykernel)",
   "language": "python",
   "name": "python3"
  },
  "language_info": {
   "codemirror_mode": {
    "name": "ipython",
    "version": 3
   },
   "file_extension": ".py",
   "mimetype": "text/x-python",
   "name": "python",
   "nbconvert_exporter": "python",
   "pygments_lexer": "ipython3",
   "version": "3.9.7"
  }
 },
 "nbformat": 4,
 "nbformat_minor": 5
}
